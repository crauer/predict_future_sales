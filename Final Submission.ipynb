{
 "cells": [
  {
   "cell_type": "markdown",
   "metadata": {},
   "source": [
    "This notebook will build my final submission for the coursera project.\n",
    "\n",
    "We are asking you to predict total sales for every product and store in the next month. By solving this competition you will be able to apply and enhance your data science skills.\n",
    "\n",
    "You are provided with daily historical sales data. The task is to forecast the total amount of products sold in every shop for the test set. Note that the list of shops and products slightly changes every month. Creating a robust model that can handle such situations is part of the challenge.\n",
    "\n",
    "Data fields description:\n",
    "- ID - an Id that represents a (Shop, Item) tuple within the test set\n",
    "- shop_id - unique identifier of a shop\n",
    "- item_id - unique identifier of a product\n",
    "- item_category_id - unique identifier of item category\n",
    "- date_block_num - a consecutive month number, used for convenience. January 2013 is 0, February 2013 is 1,..., October 2015 is 33\n",
    "- date - date in format dd/mm/yyyy\n",
    "- item_cnt_day - number of products sold. You are predicting a monthly amount of this measure\n",
    "- item_price - current price of an item\n",
    "- item_name - name of item\n",
    "- shop_name - name of shop\n",
    "- item_category_name - name of item category"
   ]
  },
  {
   "cell_type": "code",
   "execution_count": 1,
   "metadata": {},
   "outputs": [],
   "source": [
    "import matplotlib.pyplot as plt\n",
    "import numpy as np\n",
    "import pandas as pd\n",
    "import statsmodels.api as sm\n",
    "\n",
    "from calendar import monthrange\n",
    "\n",
    "from xgboost import XGBRegressor\n",
    "from xgboost import plot_importance\n",
    "\n",
    "%matplotlib inline"
   ]
  },
  {
   "cell_type": "markdown",
   "metadata": {
    "collapsed": true
   },
   "source": [
    "Load the training data and create some new features based on the date field."
   ]
  },
  {
   "cell_type": "code",
   "execution_count": 2,
   "metadata": {},
   "outputs": [
    {
     "name": "stdout",
     "output_type": "stream",
     "text": [
      "Data rows:  2,935,849\n"
     ]
    },
    {
     "data": {
      "text/html": [
       "<div>\n",
       "<style scoped>\n",
       "    .dataframe tbody tr th:only-of-type {\n",
       "        vertical-align: middle;\n",
       "    }\n",
       "\n",
       "    .dataframe tbody tr th {\n",
       "        vertical-align: top;\n",
       "    }\n",
       "\n",
       "    .dataframe thead th {\n",
       "        text-align: right;\n",
       "    }\n",
       "</style>\n",
       "<table border=\"1\" class=\"dataframe\">\n",
       "  <thead>\n",
       "    <tr style=\"text-align: right;\">\n",
       "      <th></th>\n",
       "      <th>0</th>\n",
       "      <th>1</th>\n",
       "    </tr>\n",
       "  </thead>\n",
       "  <tbody>\n",
       "    <tr>\n",
       "      <th>date</th>\n",
       "      <td>2013-01-02 00:00:00</td>\n",
       "      <td>2013-01-03 00:00:00</td>\n",
       "    </tr>\n",
       "    <tr>\n",
       "      <th>date_block_num</th>\n",
       "      <td>0</td>\n",
       "      <td>0</td>\n",
       "    </tr>\n",
       "    <tr>\n",
       "      <th>shop_id</th>\n",
       "      <td>59</td>\n",
       "      <td>25</td>\n",
       "    </tr>\n",
       "    <tr>\n",
       "      <th>item_id</th>\n",
       "      <td>22154</td>\n",
       "      <td>2552</td>\n",
       "    </tr>\n",
       "    <tr>\n",
       "      <th>item_price</th>\n",
       "      <td>999</td>\n",
       "      <td>899</td>\n",
       "    </tr>\n",
       "    <tr>\n",
       "      <th>item_cnt_day</th>\n",
       "      <td>1</td>\n",
       "      <td>1</td>\n",
       "    </tr>\n",
       "    <tr>\n",
       "      <th>date (year)</th>\n",
       "      <td>2013</td>\n",
       "      <td>2013</td>\n",
       "    </tr>\n",
       "    <tr>\n",
       "      <th>date (month)</th>\n",
       "      <td>1</td>\n",
       "      <td>1</td>\n",
       "    </tr>\n",
       "    <tr>\n",
       "      <th>date (days in month)</th>\n",
       "      <td>31</td>\n",
       "      <td>31</td>\n",
       "    </tr>\n",
       "  </tbody>\n",
       "</table>\n",
       "</div>"
      ],
      "text/plain": [
       "                                        0                    1\n",
       "date                  2013-01-02 00:00:00  2013-01-03 00:00:00\n",
       "date_block_num                          0                    0\n",
       "shop_id                                59                   25\n",
       "item_id                             22154                 2552\n",
       "item_price                            999                  899\n",
       "item_cnt_day                            1                    1\n",
       "date (year)                          2013                 2013\n",
       "date (month)                            1                    1\n",
       "date (days in month)                   31                   31"
      ]
     },
     "execution_count": 2,
     "metadata": {},
     "output_type": "execute_result"
    }
   ],
   "source": [
    "data_df = pd.read_csv('./data/sales_train.csv')\n",
    "print('Data rows:  {:,}'.format(len(data_df)))\n",
    "\n",
    "data_df['date'] = pd.to_datetime(data_df['date'], format='%d.%m.%Y')\n",
    "\n",
    "# Let's break up the date field into constituent pieces.\n",
    "data_df['date (year)'] = data_df['date'].dt.year\n",
    "data_df['date (month)'] = data_df['date'].dt.month\n",
    "data_df['date (days in month)'] = data_df['date'].apply(lambda x: monthrange(x.year, x.month)[1])\n",
    "\n",
    "data_df.head(2).transpose()"
   ]
  },
  {
   "cell_type": "markdown",
   "metadata": {},
   "source": [
    "Let's inspect the counts and prices looking for outliers."
   ]
  },
  {
   "cell_type": "code",
   "execution_count": 3,
   "metadata": {},
   "outputs": [
    {
     "name": "stdout",
     "output_type": "stream",
     "text": [
      "count    2.935849e+06\n",
      "mean     8.908532e+02\n",
      "std      1.729800e+03\n",
      "min     -1.000000e+00\n",
      "25%      2.490000e+02\n",
      "50%      3.990000e+02\n",
      "75%      9.990000e+02\n",
      "max      3.079800e+05\n",
      "Name: item_price, dtype: float64\n",
      "Prices over 50k?  3\n"
     ]
    },
    {
     "data": {
      "text/plain": [
       "(array([2.935632e+06, 2.160000e+02, 0.000000e+00, 0.000000e+00,\n",
       "        0.000000e+00, 0.000000e+00, 0.000000e+00, 0.000000e+00,\n",
       "        0.000000e+00, 1.000000e+00]),\n",
       " array([-1.000000e+00,  3.079710e+04,  6.159520e+04,  9.239330e+04,\n",
       "         1.231914e+05,  1.539895e+05,  1.847876e+05,  2.155857e+05,\n",
       "         2.463838e+05,  2.771819e+05,  3.079800e+05]),\n",
       " <a list of 10 Patch objects>)"
      ]
     },
     "execution_count": 3,
     "metadata": {},
     "output_type": "execute_result"
    },
    {
     "data": {
      "image/png": "[encoded data removed]",
      "text/plain": [
       "<matplotlib.figure.Figure at 0x222db3b6198>"
      ]
     },
     "metadata": {},
     "output_type": "display_data"
    }
   ],
   "source": [
    "print(data_df['item_price'].describe())\n",
    "print('Prices over 50k?  {:,}'.format(len(data_df[data_df['item_price'] > 50000])))\n",
    "\n",
    "plt.hist(data_df['item_price'])"
   ]
  },
  {
   "cell_type": "markdown",
   "metadata": {},
   "source": [
    "Let's remove any prices greater than 50,000."
   ]
  },
  {
   "cell_type": "code",
   "execution_count": 4,
   "metadata": {},
   "outputs": [
    {
     "data": {
      "text/plain": [
       "(array([2.900052e+06, 1.444500e+04, 1.069600e+04, 3.691000e+03,\n",
       "        4.228000e+03, 2.283000e+03, 4.070000e+02, 3.300000e+01,\n",
       "        1.000000e+01, 1.000000e+00]),\n",
       " array([-1.00000e+00,  4.97730e+03,  9.95560e+03,  1.49339e+04,\n",
       "         1.99122e+04,  2.48905e+04,  2.98688e+04,  3.48471e+04,\n",
       "         3.98254e+04,  4.48037e+04,  4.97820e+04]),\n",
       " <a list of 10 Patch objects>)"
      ]
     },
     "execution_count": 4,
     "metadata": {},
     "output_type": "execute_result"
    },
    {
     "data": {
      "image/png": "[encoded data removed]",
      "text/plain": [
       "<matplotlib.figure.Figure at 0x222caf2eb38>"
      ]
     },
     "metadata": {},
     "output_type": "display_data"
    }
   ],
   "source": [
    "data_df = data_df[data_df['item_price'] < 50000]\n",
    "\n",
    "plt.hist(data_df['item_price'])"
   ]
  },
  {
   "cell_type": "code",
   "execution_count": 5,
   "metadata": {},
   "outputs": [
    {
     "name": "stdout",
     "output_type": "stream",
     "text": [
      "count    2.935846e+06\n",
      "mean     1.242641e+00\n",
      "std      2.618836e+00\n",
      "min     -2.200000e+01\n",
      "25%      1.000000e+00\n",
      "50%      1.000000e+00\n",
      "75%      1.000000e+00\n",
      "max      2.169000e+03\n",
      "Name: item_cnt_day, dtype: float64\n",
      "Counts over 1000?  1\n"
     ]
    },
    {
     "data": {
      "text/plain": [
       "(array([2.935807e+06, 2.400000e+01, 1.100000e+01, 2.000000e+00,\n",
       "        1.000000e+00, 0.000000e+00, 0.000000e+00, 0.000000e+00,\n",
       "        0.000000e+00, 1.000000e+00]),\n",
       " array([ -22. ,  197.1,  416.2,  635.3,  854.4, 1073.5, 1292.6, 1511.7,\n",
       "        1730.8, 1949.9, 2169. ]),\n",
       " <a list of 10 Patch objects>)"
      ]
     },
     "execution_count": 5,
     "metadata": {},
     "output_type": "execute_result"
    },
    {
     "data": {
      "image/png": "[encoded data removed]",
      "text/plain": [
       "<matplotlib.figure.Figure at 0x22282d0dc88>"
      ]
     },
     "metadata": {},
     "output_type": "display_data"
    }
   ],
   "source": [
    "print(data_df['item_cnt_day'].describe())\n",
    "print('Counts over 1000?  {:,}'.format(len(data_df[data_df['item_cnt_day'] > 1000])))\n",
    "\n",
    "plt.hist(data_df['item_cnt_day'])"
   ]
  },
  {
   "cell_type": "markdown",
   "metadata": {},
   "source": [
    "Let's remove the one count that is greater than 1000."
   ]
  },
  {
   "cell_type": "code",
   "execution_count": 6,
   "metadata": {},
   "outputs": [
    {
     "data": {
      "text/plain": [
       "(array([2.935627e+06, 1.770000e+02, 1.600000e+01, 7.000000e+00,\n",
       "        5.000000e+00, 9.000000e+00, 3.000000e+00, 0.000000e+00,\n",
       "        0.000000e+00, 1.000000e+00]),\n",
       " array([ -22. ,   80.2,  182.4,  284.6,  386.8,  489. ,  591.2,  693.4,\n",
       "         795.6,  897.8, 1000. ]),\n",
       " <a list of 10 Patch objects>)"
      ]
     },
     "execution_count": 6,
     "metadata": {},
     "output_type": "execute_result"
    },
    {
     "data": {
      "image/png": "[encoded data removed]",
      "text/plain": [
       "<matplotlib.figure.Figure at 0x222db39fda0>"
      ]
     },
     "metadata": {},
     "output_type": "display_data"
    }
   ],
   "source": [
    "data_df = data_df[data_df['item_cnt_day'] < 1001]\n",
    "\n",
    "plt.hist(data_df['item_cnt_day'])"
   ]
  },
  {
   "cell_type": "code",
   "execution_count": 7,
   "metadata": {},
   "outputs": [
    {
     "name": "stdout",
     "output_type": "stream",
     "text": [
      "Item categories:  22,170\n"
     ]
    },
    {
     "data": {
      "text/html": [
       "<div>\n",
       "<style scoped>\n",
       "    .dataframe tbody tr th:only-of-type {\n",
       "        vertical-align: middle;\n",
       "    }\n",
       "\n",
       "    .dataframe tbody tr th {\n",
       "        vertical-align: top;\n",
       "    }\n",
       "\n",
       "    .dataframe thead th {\n",
       "        text-align: right;\n",
       "    }\n",
       "</style>\n",
       "<table border=\"1\" class=\"dataframe\">\n",
       "  <thead>\n",
       "    <tr style=\"text-align: right;\">\n",
       "      <th></th>\n",
       "      <th>item_name</th>\n",
       "      <th>item_id</th>\n",
       "      <th>item_category_id</th>\n",
       "    </tr>\n",
       "  </thead>\n",
       "  <tbody>\n",
       "    <tr>\n",
       "      <th>0</th>\n",
       "      <td>! ВО ВЛАСТИ НАВАЖДЕНИЯ (ПЛАСТ.)         D</td>\n",
       "      <td>0</td>\n",
       "      <td>40</td>\n",
       "    </tr>\n",
       "    <tr>\n",
       "      <th>1</th>\n",
       "      <td>!ABBYY FineReader 12 Professional Edition Full...</td>\n",
       "      <td>1</td>\n",
       "      <td>76</td>\n",
       "    </tr>\n",
       "    <tr>\n",
       "      <th>2</th>\n",
       "      <td>***В ЛУЧАХ СЛАВЫ   (UNV)                    D</td>\n",
       "      <td>2</td>\n",
       "      <td>40</td>\n",
       "    </tr>\n",
       "  </tbody>\n",
       "</table>\n",
       "</div>"
      ],
      "text/plain": [
       "                                           item_name  item_id  \\\n",
       "0          ! ВО ВЛАСТИ НАВАЖДЕНИЯ (ПЛАСТ.)         D        0   \n",
       "1  !ABBYY FineReader 12 Professional Edition Full...        1   \n",
       "2      ***В ЛУЧАХ СЛАВЫ   (UNV)                    D        2   \n",
       "\n",
       "   item_category_id  \n",
       "0                40  \n",
       "1                76  \n",
       "2                40  "
      ]
     },
     "execution_count": 7,
     "metadata": {},
     "output_type": "execute_result"
    }
   ],
   "source": [
    "item_categories_df = pd.read_csv('./data/items.csv')\n",
    "print('Item categories:  {:,}'.format(len(item_categories_df)))\n",
    "\n",
    "item_categories_df['item_id'] = item_categories_df['item_id'].astype(int)\n",
    "item_categories_df['item_category_id'] = item_categories_df['item_category_id'].astype(int)\n",
    "\n",
    "item_categories_df.head(3)"
   ]
  },
  {
   "cell_type": "code",
   "execution_count": 8,
   "metadata": {},
   "outputs": [
    {
     "name": "stdout",
     "output_type": "stream",
     "text": [
      "Shop rows:  60\n"
     ]
    },
    {
     "data": {
      "text/html": [
       "<div>\n",
       "<style scoped>\n",
       "    .dataframe tbody tr th:only-of-type {\n",
       "        vertical-align: middle;\n",
       "    }\n",
       "\n",
       "    .dataframe tbody tr th {\n",
       "        vertical-align: top;\n",
       "    }\n",
       "\n",
       "    .dataframe thead th {\n",
       "        text-align: right;\n",
       "    }\n",
       "</style>\n",
       "<table border=\"1\" class=\"dataframe\">\n",
       "  <thead>\n",
       "    <tr style=\"text-align: right;\">\n",
       "      <th></th>\n",
       "      <th>shop_name</th>\n",
       "      <th>shop_id</th>\n",
       "    </tr>\n",
       "  </thead>\n",
       "  <tbody>\n",
       "    <tr>\n",
       "      <th>0</th>\n",
       "      <td>!Якутск Орджоникидзе, 56 фран</td>\n",
       "      <td>0</td>\n",
       "    </tr>\n",
       "    <tr>\n",
       "      <th>1</th>\n",
       "      <td>!Якутск ТЦ \"Центральный\" фран</td>\n",
       "      <td>1</td>\n",
       "    </tr>\n",
       "    <tr>\n",
       "      <th>2</th>\n",
       "      <td>Адыгея ТЦ \"Мега\"</td>\n",
       "      <td>2</td>\n",
       "    </tr>\n",
       "  </tbody>\n",
       "</table>\n",
       "</div>"
      ],
      "text/plain": [
       "                       shop_name  shop_id\n",
       "0  !Якутск Орджоникидзе, 56 фран        0\n",
       "1  !Якутск ТЦ \"Центральный\" фран        1\n",
       "2               Адыгея ТЦ \"Мега\"        2"
      ]
     },
     "execution_count": 8,
     "metadata": {},
     "output_type": "execute_result"
    }
   ],
   "source": [
    "shops_df = pd.read_csv('./data/shops.csv')\n",
    "print('Shop rows:  {:,}'.format(len(shops_df)))\n",
    "\n",
    "shops_df['shop_id'] = shops_df['shop_id'].astype(int)\n",
    "\n",
    "shops_df.head(3)"
   ]
  },
  {
   "cell_type": "markdown",
   "metadata": {},
   "source": [
    "Since we are trying to predict a future month, we need to convert the data into a monthly format."
   ]
  },
  {
   "cell_type": "code",
   "execution_count": 9,
   "metadata": {},
   "outputs": [],
   "source": [
    "monthly_df = data_df.groupby(['shop_id', 'item_id', 'date_block_num']).agg({'item_cnt_day': 'sum'}).reset_index()\n",
    "monthly_df.columns = ['shop_id', 'item_id', 'date_block_num', 'item_cnt_month']"
   ]
  },
  {
   "cell_type": "markdown",
   "metadata": {},
   "source": [
    "Load the test data and merge into the big dataset."
   ]
  },
  {
   "cell_type": "code",
   "execution_count": 10,
   "metadata": {},
   "outputs": [
    {
     "name": "stdout",
     "output_type": "stream",
     "text": [
      "Test rows:  214,200\n",
      "Test rows (after merge):  214,200\n"
     ]
    },
    {
     "data": {
      "text/html": [
       "<div>\n",
       "<style scoped>\n",
       "    .dataframe tbody tr th:only-of-type {\n",
       "        vertical-align: middle;\n",
       "    }\n",
       "\n",
       "    .dataframe tbody tr th {\n",
       "        vertical-align: top;\n",
       "    }\n",
       "\n",
       "    .dataframe thead th {\n",
       "        text-align: right;\n",
       "    }\n",
       "</style>\n",
       "<table border=\"1\" class=\"dataframe\">\n",
       "  <thead>\n",
       "    <tr style=\"text-align: right;\">\n",
       "      <th></th>\n",
       "      <th>2</th>\n",
       "      <th>5</th>\n",
       "    </tr>\n",
       "  </thead>\n",
       "  <tbody>\n",
       "    <tr>\n",
       "      <th>ID</th>\n",
       "      <td>2.0</td>\n",
       "      <td>5.0</td>\n",
       "    </tr>\n",
       "    <tr>\n",
       "      <th>shop_id</th>\n",
       "      <td>5.0</td>\n",
       "      <td>5.0</td>\n",
       "    </tr>\n",
       "    <tr>\n",
       "      <th>item_id</th>\n",
       "      <td>5233.0</td>\n",
       "      <td>5039.0</td>\n",
       "    </tr>\n",
       "    <tr>\n",
       "      <th>date_block_num</th>\n",
       "      <td>34.0</td>\n",
       "      <td>34.0</td>\n",
       "    </tr>\n",
       "    <tr>\n",
       "      <th>date (year)</th>\n",
       "      <td>2015.0</td>\n",
       "      <td>2015.0</td>\n",
       "    </tr>\n",
       "    <tr>\n",
       "      <th>date (month)</th>\n",
       "      <td>11.0</td>\n",
       "      <td>11.0</td>\n",
       "    </tr>\n",
       "    <tr>\n",
       "      <th>date (days in month)</th>\n",
       "      <td>30.0</td>\n",
       "      <td>30.0</td>\n",
       "    </tr>\n",
       "    <tr>\n",
       "      <th>item_price</th>\n",
       "      <td>1199.0</td>\n",
       "      <td>1499.0</td>\n",
       "    </tr>\n",
       "  </tbody>\n",
       "</table>\n",
       "</div>"
      ],
      "text/plain": [
       "                           2       5\n",
       "ID                       2.0     5.0\n",
       "shop_id                  5.0     5.0\n",
       "item_id               5233.0  5039.0\n",
       "date_block_num          34.0    34.0\n",
       "date (year)           2015.0  2015.0\n",
       "date (month)            11.0    11.0\n",
       "date (days in month)    30.0    30.0\n",
       "item_price            1199.0  1499.0"
      ]
     },
     "execution_count": 10,
     "metadata": {},
     "output_type": "execute_result"
    }
   ],
   "source": [
    "test_df = pd.read_csv('./data/test.csv')\n",
    "print('Test rows:  {:,}'.format(len(test_df)))\n",
    "\n",
    "# Fixed values.\n",
    "test_df['date_block_num'] = 34\n",
    "test_df['date (year)'] = 2015\n",
    "test_df['date (month)'] = 11\n",
    "test_df['date (days in month)'] = 30\n",
    "\n",
    "# Update the prices with the latest month's prices.\n",
    "last_month_df = data_df[data_df['date_block_num'] == 33][['shop_id', 'item_id', 'item_price']]\n",
    "\n",
    "test_df = test_df.merge(last_month_df, on=['shop_id', 'item_id'], how='left')\n",
    "test_df = test_df.drop_duplicates('ID', keep='first')\n",
    "\n",
    "print('Test rows (after merge):  {:,}'.format(len(test_df)))\n",
    "\n",
    "test_df[test_df['item_price'] > 0].head(2).T"
   ]
  },
  {
   "cell_type": "code",
   "execution_count": 11,
   "metadata": {},
   "outputs": [
    {
     "name": "stdout",
     "output_type": "stream",
     "text": [
      "Rows:  3,150,045\n"
     ]
    }
   ],
   "source": [
    "data_df = pd.concat([data_df, test_df], ignore_index=True, sort=False)\n",
    "data_df = data_df.fillna(0)\n",
    "\n",
    "print('Rows:  {:,}'.format(len(data_df)))"
   ]
  },
  {
   "cell_type": "markdown",
   "metadata": {},
   "source": [
    "Merge the monthly results back into the training dataframe."
   ]
  },
  {
   "cell_type": "code",
   "execution_count": 12,
   "metadata": {},
   "outputs": [
    {
     "name": "stdout",
     "output_type": "stream",
     "text": [
      "Training before merge:  3,150,045\n",
      "Training after merge:  3,150,045\n"
     ]
    },
    {
     "data": {
      "text/html": [
       "<div>\n",
       "<style scoped>\n",
       "    .dataframe tbody tr th:only-of-type {\n",
       "        vertical-align: middle;\n",
       "    }\n",
       "\n",
       "    .dataframe tbody tr th {\n",
       "        vertical-align: top;\n",
       "    }\n",
       "\n",
       "    .dataframe thead th {\n",
       "        text-align: right;\n",
       "    }\n",
       "</style>\n",
       "<table border=\"1\" class=\"dataframe\">\n",
       "  <thead>\n",
       "    <tr style=\"text-align: right;\">\n",
       "      <th></th>\n",
       "      <th>0</th>\n",
       "      <th>1</th>\n",
       "    </tr>\n",
       "  </thead>\n",
       "  <tbody>\n",
       "    <tr>\n",
       "      <th>date_block_num</th>\n",
       "      <td>0.0</td>\n",
       "      <td>0.0</td>\n",
       "    </tr>\n",
       "    <tr>\n",
       "      <th>shop_id</th>\n",
       "      <td>59.0</td>\n",
       "      <td>25.0</td>\n",
       "    </tr>\n",
       "    <tr>\n",
       "      <th>item_id</th>\n",
       "      <td>22154.0</td>\n",
       "      <td>2552.0</td>\n",
       "    </tr>\n",
       "    <tr>\n",
       "      <th>item_price</th>\n",
       "      <td>999.0</td>\n",
       "      <td>899.0</td>\n",
       "    </tr>\n",
       "    <tr>\n",
       "      <th>date (year)</th>\n",
       "      <td>2013.0</td>\n",
       "      <td>2013.0</td>\n",
       "    </tr>\n",
       "    <tr>\n",
       "      <th>date (month)</th>\n",
       "      <td>1.0</td>\n",
       "      <td>1.0</td>\n",
       "    </tr>\n",
       "    <tr>\n",
       "      <th>date (days in month)</th>\n",
       "      <td>31.0</td>\n",
       "      <td>31.0</td>\n",
       "    </tr>\n",
       "    <tr>\n",
       "      <th>ID</th>\n",
       "      <td>0.0</td>\n",
       "      <td>0.0</td>\n",
       "    </tr>\n",
       "    <tr>\n",
       "      <th>item_cnt_month</th>\n",
       "      <td>1.0</td>\n",
       "      <td>0.0</td>\n",
       "    </tr>\n",
       "    <tr>\n",
       "      <th>item_category_id</th>\n",
       "      <td>37.0</td>\n",
       "      <td>58.0</td>\n",
       "    </tr>\n",
       "  </tbody>\n",
       "</table>\n",
       "</div>"
      ],
      "text/plain": [
       "                            0       1\n",
       "date_block_num            0.0     0.0\n",
       "shop_id                  59.0    25.0\n",
       "item_id               22154.0  2552.0\n",
       "item_price              999.0   899.0\n",
       "date (year)            2013.0  2013.0\n",
       "date (month)              1.0     1.0\n",
       "date (days in month)     31.0    31.0\n",
       "ID                        0.0     0.0\n",
       "item_cnt_month            1.0     0.0\n",
       "item_category_id         37.0    58.0"
      ]
     },
     "execution_count": 12,
     "metadata": {},
     "output_type": "execute_result"
    }
   ],
   "source": [
    "print('Training before merge:  {:,}'.format(len(data_df)))\n",
    "\n",
    "data_df = data_df.merge(monthly_df, on=['shop_id', 'item_id', 'date_block_num'], how='left')\n",
    "data_df['item_cnt_month'] = data_df['item_cnt_month'].fillna(0)\n",
    "\n",
    "data_df = data_df.merge(item_categories_df[['item_id', 'item_category_id']], on='item_id', how='left')\n",
    "\n",
    "data_df['date_block_num'] = data_df['date_block_num'].astype('int')\n",
    "data_df['shop_id'] = data_df['shop_id'].astype('int')\n",
    "data_df['item_id'] = data_df['item_id'].astype('int')\n",
    "data_df['item_category_id'] = data_df['item_category_id'].astype('int')\n",
    "data_df['date (year)'] = data_df['date (year)'].astype('int')\n",
    "data_df['date (month)'] = data_df['date (month)'].astype('int')\n",
    "data_df['date (days in month)'] = data_df['date (days in month)'].astype('int')\n",
    "\n",
    "print('Training after merge:  {:,}'.format(len(data_df)))\n",
    "\n",
    "# Drop the daily columns that aren't needed.\n",
    "data_df = data_df.drop(['date', 'item_cnt_day'], axis=1)\n",
    "\n",
    "data_df.head(2).T"
   ]
  },
  {
   "cell_type": "code",
   "execution_count": 13,
   "metadata": {},
   "outputs": [
    {
     "data": {
      "text/plain": [
       "count    3.150045e+06\n",
       "mean     6.884522e+00\n",
       "std      2.882225e+01\n",
       "min     -2.200000e+01\n",
       "25%      1.000000e+00\n",
       "50%      2.000000e+00\n",
       "75%      5.000000e+00\n",
       "max      1.644000e+03\n",
       "Name: item_cnt_month, dtype: float64"
      ]
     },
     "execution_count": 13,
     "metadata": {},
     "output_type": "execute_result"
    }
   ],
   "source": [
    "data_df['item_cnt_month'].describe()"
   ]
  },
  {
   "cell_type": "markdown",
   "metadata": {},
   "source": [
    "Counts of a negative number represent \"returns\".  Thus, let's take these values out."
   ]
  },
  {
   "cell_type": "code",
   "execution_count": 14,
   "metadata": {},
   "outputs": [
    {
     "name": "stdout",
     "output_type": "stream",
     "text": [
      "Rows before returns removed:  3,150,045\n",
      "Rows after returns removed:  3,149,076\n"
     ]
    }
   ],
   "source": [
    "print('Rows before returns removed:  {:,}'.format(len(data_df)))\n",
    "\n",
    "data_df = data_df[data_df['item_cnt_month'] >= 0]\n",
    "\n",
    "print('Rows after returns removed:  {:,}'.format(len(data_df)))"
   ]
  },
  {
   "cell_type": "code",
   "execution_count": 15,
   "metadata": {},
   "outputs": [
    {
     "data": {
      "text/plain": [
       "count    3.149076e+06\n",
       "mean     6.887001e+00\n",
       "std      2.882633e+01\n",
       "min      0.000000e+00\n",
       "25%      1.000000e+00\n",
       "50%      2.000000e+00\n",
       "75%      5.000000e+00\n",
       "max      1.644000e+03\n",
       "Name: item_cnt_month, dtype: float64"
      ]
     },
     "execution_count": 15,
     "metadata": {},
     "output_type": "execute_result"
    }
   ],
   "source": [
    "data_df['item_cnt_month'].describe()"
   ]
  },
  {
   "cell_type": "code",
   "execution_count": 16,
   "metadata": {},
   "outputs": [
    {
     "data": {
      "text/plain": [
       "count    3.149076e+06\n",
       "mean     8.405259e+02\n",
       "std      1.690195e+03\n",
       "min     -1.000000e+00\n",
       "25%      1.990000e+02\n",
       "50%      3.990000e+02\n",
       "75%      8.995000e+02\n",
       "max      4.978200e+04\n",
       "Name: item_price, dtype: float64"
      ]
     },
     "execution_count": 16,
     "metadata": {},
     "output_type": "execute_result"
    }
   ],
   "source": [
    "data_df['item_price'].describe()"
   ]
  },
  {
   "cell_type": "markdown",
   "metadata": {},
   "source": [
    "Some item's are priced negatively.  Instead of zero, let's use the median here."
   ]
  },
  {
   "cell_type": "code",
   "execution_count": 17,
   "metadata": {},
   "outputs": [
    {
     "name": "stdout",
     "output_type": "stream",
     "text": [
      "Price median:  399.0\n"
     ]
    }
   ],
   "source": [
    "price_median = np.median(data_df['item_price'])\n",
    "print('Price median:  {:}'.format(price_median))\n",
    "\n",
    "data_df['item_price'] = data_df['item_price'].apply(lambda x: x if x >= 0 else price_median)"
   ]
  },
  {
   "cell_type": "code",
   "execution_count": 18,
   "metadata": {},
   "outputs": [
    {
     "data": {
      "text/plain": [
       "count    3.149076e+06\n",
       "mean     8.405260e+02\n",
       "std      1.690195e+03\n",
       "min      0.000000e+00\n",
       "25%      1.990000e+02\n",
       "50%      3.990000e+02\n",
       "75%      8.995000e+02\n",
       "max      4.978200e+04\n",
       "Name: item_price, dtype: float64"
      ]
     },
     "execution_count": 18,
     "metadata": {},
     "output_type": "execute_result"
    }
   ],
   "source": [
    "data_df['item_price'].describe()"
   ]
  },
  {
   "cell_type": "markdown",
   "metadata": {},
   "source": [
    "Create a revenue data feature."
   ]
  },
  {
   "cell_type": "code",
   "execution_count": 19,
   "metadata": {
    "collapsed": true
   },
   "outputs": [],
   "source": [
    "data_df['revenue_month'] = data_df['item_price'] * data_df['item_cnt_month']"
   ]
  },
  {
   "cell_type": "markdown",
   "metadata": {},
   "source": [
    "Add a mean encoded feature."
   ]
  },
  {
   "cell_type": "code",
   "execution_count": 20,
   "metadata": {},
   "outputs": [
    {
     "name": "stdout",
     "output_type": "stream",
     "text": [
      "   date_block_num  item_cnt_mef\n",
      "0               0      5.238760\n",
      "1               1      5.419628\n",
      "2               2      6.605059\n"
     ]
    }
   ],
   "source": [
    "grouped_df = data_df.groupby(['date_block_num']).agg({'item_cnt_month': ['mean']}).reset_index()\n",
    "grouped_df.columns = ['date_block_num', 'item_cnt_mef']\n",
    "\n",
    "print(grouped_df.head(3))\n",
    "\n",
    "data_df = pd.merge(data_df, grouped_df, on=['date_block_num'], how='left')"
   ]
  },
  {
   "cell_type": "markdown",
   "metadata": {},
   "source": [
    "Now, let's add some lagged features."
   ]
  },
  {
   "cell_type": "code",
   "execution_count": 21,
   "metadata": {},
   "outputs": [
    {
     "data": {
      "text/html": [
       "<div>\n",
       "<style scoped>\n",
       "    .dataframe tbody tr th:only-of-type {\n",
       "        vertical-align: middle;\n",
       "    }\n",
       "\n",
       "    .dataframe tbody tr th {\n",
       "        vertical-align: top;\n",
       "    }\n",
       "\n",
       "    .dataframe thead th {\n",
       "        text-align: right;\n",
       "    }\n",
       "</style>\n",
       "<table border=\"1\" class=\"dataframe\">\n",
       "  <thead>\n",
       "    <tr style=\"text-align: right;\">\n",
       "      <th></th>\n",
       "      <th>0</th>\n",
       "      <th>1</th>\n",
       "    </tr>\n",
       "  </thead>\n",
       "  <tbody>\n",
       "    <tr>\n",
       "      <th>date_block_num</th>\n",
       "      <td>0.0</td>\n",
       "      <td>0.00000</td>\n",
       "    </tr>\n",
       "    <tr>\n",
       "      <th>shop_id</th>\n",
       "      <td>59.0</td>\n",
       "      <td>25.00000</td>\n",
       "    </tr>\n",
       "    <tr>\n",
       "      <th>item_id</th>\n",
       "      <td>22154.0</td>\n",
       "      <td>2552.00000</td>\n",
       "    </tr>\n",
       "    <tr>\n",
       "      <th>item_price</th>\n",
       "      <td>999.0</td>\n",
       "      <td>899.00000</td>\n",
       "    </tr>\n",
       "    <tr>\n",
       "      <th>date (year)</th>\n",
       "      <td>2013.0</td>\n",
       "      <td>2013.00000</td>\n",
       "    </tr>\n",
       "    <tr>\n",
       "      <th>date (month)</th>\n",
       "      <td>1.0</td>\n",
       "      <td>1.00000</td>\n",
       "    </tr>\n",
       "    <tr>\n",
       "      <th>date (days in month)</th>\n",
       "      <td>31.0</td>\n",
       "      <td>31.00000</td>\n",
       "    </tr>\n",
       "    <tr>\n",
       "      <th>ID</th>\n",
       "      <td>0.0</td>\n",
       "      <td>0.00000</td>\n",
       "    </tr>\n",
       "    <tr>\n",
       "      <th>item_cnt_month</th>\n",
       "      <td>1.0</td>\n",
       "      <td>0.00000</td>\n",
       "    </tr>\n",
       "    <tr>\n",
       "      <th>item_category_id</th>\n",
       "      <td>37.0</td>\n",
       "      <td>58.00000</td>\n",
       "    </tr>\n",
       "    <tr>\n",
       "      <th>item_cnt_month (-1)</th>\n",
       "      <td>0.0</td>\n",
       "      <td>0.00000</td>\n",
       "    </tr>\n",
       "    <tr>\n",
       "      <th>item_cnt_month (-2)</th>\n",
       "      <td>0.0</td>\n",
       "      <td>0.00000</td>\n",
       "    </tr>\n",
       "    <tr>\n",
       "      <th>item_cnt_month (-3)</th>\n",
       "      <td>0.0</td>\n",
       "      <td>0.00000</td>\n",
       "    </tr>\n",
       "    <tr>\n",
       "      <th>item_cnt_month (-6)</th>\n",
       "      <td>0.0</td>\n",
       "      <td>0.00000</td>\n",
       "    </tr>\n",
       "    <tr>\n",
       "      <th>item_cnt_month (-12)</th>\n",
       "      <td>0.0</td>\n",
       "      <td>0.00000</td>\n",
       "    </tr>\n",
       "    <tr>\n",
       "      <th>item_price (-1)</th>\n",
       "      <td>0.0</td>\n",
       "      <td>899.00000</td>\n",
       "    </tr>\n",
       "    <tr>\n",
       "      <th>item_price (-2)</th>\n",
       "      <td>0.0</td>\n",
       "      <td>0.00000</td>\n",
       "    </tr>\n",
       "    <tr>\n",
       "      <th>item_price (-3)</th>\n",
       "      <td>0.0</td>\n",
       "      <td>0.00000</td>\n",
       "    </tr>\n",
       "    <tr>\n",
       "      <th>item_price (-6)</th>\n",
       "      <td>0.0</td>\n",
       "      <td>0.00000</td>\n",
       "    </tr>\n",
       "    <tr>\n",
       "      <th>item_price (-12)</th>\n",
       "      <td>0.0</td>\n",
       "      <td>0.00000</td>\n",
       "    </tr>\n",
       "    <tr>\n",
       "      <th>revenue_month (-1)</th>\n",
       "      <td>0.0</td>\n",
       "      <td>0.00000</td>\n",
       "    </tr>\n",
       "    <tr>\n",
       "      <th>revenue_month (-2)</th>\n",
       "      <td>0.0</td>\n",
       "      <td>0.00000</td>\n",
       "    </tr>\n",
       "    <tr>\n",
       "      <th>revenue_month (-3)</th>\n",
       "      <td>0.0</td>\n",
       "      <td>0.00000</td>\n",
       "    </tr>\n",
       "    <tr>\n",
       "      <th>revenue_month (-6)</th>\n",
       "      <td>0.0</td>\n",
       "      <td>0.00000</td>\n",
       "    </tr>\n",
       "    <tr>\n",
       "      <th>revenue_month (-12)</th>\n",
       "      <td>0.0</td>\n",
       "      <td>0.00000</td>\n",
       "    </tr>\n",
       "    <tr>\n",
       "      <th>item_cnt_mef (-1)</th>\n",
       "      <td>0.0</td>\n",
       "      <td>5.23876</td>\n",
       "    </tr>\n",
       "    <tr>\n",
       "      <th>item_cnt_mef (-2)</th>\n",
       "      <td>0.0</td>\n",
       "      <td>0.00000</td>\n",
       "    </tr>\n",
       "    <tr>\n",
       "      <th>item_cnt_mef (-3)</th>\n",
       "      <td>0.0</td>\n",
       "      <td>0.00000</td>\n",
       "    </tr>\n",
       "    <tr>\n",
       "      <th>item_cnt_mef (-6)</th>\n",
       "      <td>0.0</td>\n",
       "      <td>0.00000</td>\n",
       "    </tr>\n",
       "    <tr>\n",
       "      <th>item_cnt_mef (-12)</th>\n",
       "      <td>0.0</td>\n",
       "      <td>0.00000</td>\n",
       "    </tr>\n",
       "  </tbody>\n",
       "</table>\n",
       "</div>"
      ],
      "text/plain": [
       "                            0           1\n",
       "date_block_num            0.0     0.00000\n",
       "shop_id                  59.0    25.00000\n",
       "item_id               22154.0  2552.00000\n",
       "item_price              999.0   899.00000\n",
       "date (year)            2013.0  2013.00000\n",
       "date (month)              1.0     1.00000\n",
       "date (days in month)     31.0    31.00000\n",
       "ID                        0.0     0.00000\n",
       "item_cnt_month            1.0     0.00000\n",
       "item_category_id         37.0    58.00000\n",
       "item_cnt_month (-1)       0.0     0.00000\n",
       "item_cnt_month (-2)       0.0     0.00000\n",
       "item_cnt_month (-3)       0.0     0.00000\n",
       "item_cnt_month (-6)       0.0     0.00000\n",
       "item_cnt_month (-12)      0.0     0.00000\n",
       "item_price (-1)           0.0   899.00000\n",
       "item_price (-2)           0.0     0.00000\n",
       "item_price (-3)           0.0     0.00000\n",
       "item_price (-6)           0.0     0.00000\n",
       "item_price (-12)          0.0     0.00000\n",
       "revenue_month (-1)        0.0     0.00000\n",
       "revenue_month (-2)        0.0     0.00000\n",
       "revenue_month (-3)        0.0     0.00000\n",
       "revenue_month (-6)        0.0     0.00000\n",
       "revenue_month (-12)       0.0     0.00000\n",
       "item_cnt_mef (-1)         0.0     5.23876\n",
       "item_cnt_mef (-2)         0.0     0.00000\n",
       "item_cnt_mef (-3)         0.0     0.00000\n",
       "item_cnt_mef (-6)         0.0     0.00000\n",
       "item_cnt_mef (-12)        0.0     0.00000"
      ]
     },
     "execution_count": 21,
     "metadata": {},
     "output_type": "execute_result"
    }
   ],
   "source": [
    "month_lags = [1, 2, 3, 6, 12]\n",
    "col_lags = ['item_cnt_month', 'item_price', 'revenue_month', 'item_cnt_mef']\n",
    "\n",
    "for col in col_lags:\n",
    "    for month in month_lags:\n",
    "        new_col = '{:} (-{:})'.format(col, month)\n",
    "        data_df[new_col] = data_df.sort_values('date_block_num').groupby(['shop_id', 'item_id'])[col].shift(month)\n",
    "        data_df[new_col] = data_df[new_col].fillna(0.0)\n",
    "    \n",
    "# Drop columns that we cannot use in training.\n",
    "data_df = data_df.drop(['revenue_month', 'item_cnt_mef'], axis=1)\n",
    "                       \n",
    "data_df.head(2).T"
   ]
  },
  {
   "cell_type": "code",
   "execution_count": 22,
   "metadata": {},
   "outputs": [
    {
     "data": {
      "text/html": [
       "<div>\n",
       "<style scoped>\n",
       "    .dataframe tbody tr th:only-of-type {\n",
       "        vertical-align: middle;\n",
       "    }\n",
       "\n",
       "    .dataframe tbody tr th {\n",
       "        vertical-align: top;\n",
       "    }\n",
       "\n",
       "    .dataframe thead th {\n",
       "        text-align: right;\n",
       "    }\n",
       "</style>\n",
       "<table border=\"1\" class=\"dataframe\">\n",
       "  <thead>\n",
       "    <tr style=\"text-align: right;\">\n",
       "      <th></th>\n",
       "      <th>date_block_num</th>\n",
       "      <th>shop_id</th>\n",
       "      <th>item_id</th>\n",
       "      <th>item_price</th>\n",
       "      <th>date (year)</th>\n",
       "      <th>date (month)</th>\n",
       "      <th>date (days in month)</th>\n",
       "      <th>ID</th>\n",
       "      <th>item_cnt_month</th>\n",
       "      <th>item_category_id</th>\n",
       "      <th>...</th>\n",
       "      <th>revenue_month (-1)</th>\n",
       "      <th>revenue_month (-2)</th>\n",
       "      <th>revenue_month (-3)</th>\n",
       "      <th>revenue_month (-6)</th>\n",
       "      <th>revenue_month (-12)</th>\n",
       "      <th>item_cnt_mef (-1)</th>\n",
       "      <th>item_cnt_mef (-2)</th>\n",
       "      <th>item_cnt_mef (-3)</th>\n",
       "      <th>item_cnt_mef (-6)</th>\n",
       "      <th>item_cnt_mef (-12)</th>\n",
       "    </tr>\n",
       "  </thead>\n",
       "  <tbody>\n",
       "    <tr>\n",
       "      <th>count</th>\n",
       "      <td>3.149076e+06</td>\n",
       "      <td>3.149076e+06</td>\n",
       "      <td>3.149076e+06</td>\n",
       "      <td>3.149076e+06</td>\n",
       "      <td>3.149076e+06</td>\n",
       "      <td>3.149076e+06</td>\n",
       "      <td>3.149076e+06</td>\n",
       "      <td>3.149076e+06</td>\n",
       "      <td>3.149076e+06</td>\n",
       "      <td>3.149076e+06</td>\n",
       "      <td>...</td>\n",
       "      <td>3.149076e+06</td>\n",
       "      <td>3.149076e+06</td>\n",
       "      <td>3.149076e+06</td>\n",
       "      <td>3.149076e+06</td>\n",
       "      <td>3.149076e+06</td>\n",
       "      <td>3.149076e+06</td>\n",
       "      <td>3.149076e+06</td>\n",
       "      <td>3.149076e+06</td>\n",
       "      <td>3.149076e+06</td>\n",
       "      <td>3.149076e+06</td>\n",
       "    </tr>\n",
       "    <tr>\n",
       "      <th>mean</th>\n",
       "      <td>1.589172e+01</td>\n",
       "      <td>3.291088e+01</td>\n",
       "      <td>1.025335e+04</td>\n",
       "      <td>8.405260e+02</td>\n",
       "      <td>2.013860e+03</td>\n",
       "      <td>6.571189e+00</td>\n",
       "      <td>3.039884e+01</td>\n",
       "      <td>7.284903e+03</td>\n",
       "      <td>6.887001e+00</td>\n",
       "      <td>4.043224e+01</td>\n",
       "      <td>...</td>\n",
       "      <td>6.158957e+03</td>\n",
       "      <td>6.001051e+03</td>\n",
       "      <td>5.842839e+03</td>\n",
       "      <td>5.399491e+03</td>\n",
       "      <td>4.653873e+03</td>\n",
       "      <td>6.165729e+00</td>\n",
       "      <td>5.429309e+00</td>\n",
       "      <td>4.870006e+00</td>\n",
       "      <td>3.738651e+00</td>\n",
       "      <td>2.532078e+00</td>\n",
       "    </tr>\n",
       "    <tr>\n",
       "      <th>std</th>\n",
       "      <td>1.032888e+01</td>\n",
       "      <td>1.632434e+01</td>\n",
       "      <td>6.322862e+03</td>\n",
       "      <td>1.690195e+03</td>\n",
       "      <td>8.032610e-01</td>\n",
       "      <td>3.617427e+00</td>\n",
       "      <td>8.686052e-01</td>\n",
       "      <td>3.141993e+04</td>\n",
       "      <td>2.882633e+01</td>\n",
       "      <td>1.714804e+01</td>\n",
       "      <td>...</td>\n",
       "      <td>4.133641e+04</td>\n",
       "      <td>4.123074e+04</td>\n",
       "      <td>4.108327e+04</td>\n",
       "      <td>4.048315e+04</td>\n",
       "      <td>3.893006e+04</td>\n",
       "      <td>3.172836e+00</td>\n",
       "      <td>3.589157e+00</td>\n",
       "      <td>3.780284e+00</td>\n",
       "      <td>3.901715e+00</td>\n",
       "      <td>3.657612e+00</td>\n",
       "    </tr>\n",
       "    <tr>\n",
       "      <th>min</th>\n",
       "      <td>0.000000e+00</td>\n",
       "      <td>0.000000e+00</td>\n",
       "      <td>0.000000e+00</td>\n",
       "      <td>0.000000e+00</td>\n",
       "      <td>2.013000e+03</td>\n",
       "      <td>1.000000e+00</td>\n",
       "      <td>2.800000e+01</td>\n",
       "      <td>0.000000e+00</td>\n",
       "      <td>0.000000e+00</td>\n",
       "      <td>0.000000e+00</td>\n",
       "      <td>...</td>\n",
       "      <td>0.000000e+00</td>\n",
       "      <td>0.000000e+00</td>\n",
       "      <td>0.000000e+00</td>\n",
       "      <td>0.000000e+00</td>\n",
       "      <td>0.000000e+00</td>\n",
       "      <td>0.000000e+00</td>\n",
       "      <td>0.000000e+00</td>\n",
       "      <td>0.000000e+00</td>\n",
       "      <td>0.000000e+00</td>\n",
       "      <td>0.000000e+00</td>\n",
       "    </tr>\n",
       "    <tr>\n",
       "      <th>25%</th>\n",
       "      <td>7.000000e+00</td>\n",
       "      <td>2.200000e+01</td>\n",
       "      <td>4.510000e+03</td>\n",
       "      <td>1.990000e+02</td>\n",
       "      <td>2.013000e+03</td>\n",
       "      <td>3.000000e+00</td>\n",
       "      <td>3.000000e+01</td>\n",
       "      <td>0.000000e+00</td>\n",
       "      <td>1.000000e+00</td>\n",
       "      <td>2.900000e+01</td>\n",
       "      <td>...</td>\n",
       "      <td>1.993400e+02</td>\n",
       "      <td>0.000000e+00</td>\n",
       "      <td>0.000000e+00</td>\n",
       "      <td>0.000000e+00</td>\n",
       "      <td>0.000000e+00</td>\n",
       "      <td>5.265959e+00</td>\n",
       "      <td>0.000000e+00</td>\n",
       "      <td>0.000000e+00</td>\n",
       "      <td>0.000000e+00</td>\n",
       "      <td>0.000000e+00</td>\n",
       "    </tr>\n",
       "    <tr>\n",
       "      <th>50%</th>\n",
       "      <td>1.500000e+01</td>\n",
       "      <td>3.100000e+01</td>\n",
       "      <td>9.461000e+03</td>\n",
       "      <td>3.990000e+02</td>\n",
       "      <td>2.014000e+03</td>\n",
       "      <td>7.000000e+00</td>\n",
       "      <td>3.100000e+01</td>\n",
       "      <td>0.000000e+00</td>\n",
       "      <td>2.000000e+00</td>\n",
       "      <td>4.000000e+01</td>\n",
       "      <td>...</td>\n",
       "      <td>8.970000e+02</td>\n",
       "      <td>7.490000e+02</td>\n",
       "      <td>5.980000e+02</td>\n",
       "      <td>9.900000e+01</td>\n",
       "      <td>0.000000e+00</td>\n",
       "      <td>6.605059e+00</td>\n",
       "      <td>6.498355e+00</td>\n",
       "      <td>6.041723e+00</td>\n",
       "      <td>4.832291e+00</td>\n",
       "      <td>0.000000e+00</td>\n",
       "    </tr>\n",
       "    <tr>\n",
       "      <th>75%</th>\n",
       "      <td>2.400000e+01</td>\n",
       "      <td>4.700000e+01</td>\n",
       "      <td>1.572900e+04</td>\n",
       "      <td>8.995000e+02</td>\n",
       "      <td>2.015000e+03</td>\n",
       "      <td>1.000000e+01</td>\n",
       "      <td>3.100000e+01</td>\n",
       "      <td>0.000000e+00</td>\n",
       "      <td>5.000000e+00</td>\n",
       "      <td>5.500000e+01</td>\n",
       "      <td>...</td>\n",
       "      <td>3.290000e+03</td>\n",
       "      <td>3.184000e+03</td>\n",
       "      <td>2.997000e+03</td>\n",
       "      <td>2.398000e+03</td>\n",
       "      <td>1.199000e+03</td>\n",
       "      <td>8.404300e+00</td>\n",
       "      <td>7.856967e+00</td>\n",
       "      <td>7.627376e+00</td>\n",
       "      <td>7.104757e+00</td>\n",
       "      <td>6.353680e+00</td>\n",
       "    </tr>\n",
       "    <tr>\n",
       "      <th>max</th>\n",
       "      <td>3.400000e+01</td>\n",
       "      <td>5.900000e+01</td>\n",
       "      <td>2.216900e+04</td>\n",
       "      <td>4.978200e+04</td>\n",
       "      <td>2.015000e+03</td>\n",
       "      <td>1.200000e+01</td>\n",
       "      <td>3.100000e+01</td>\n",
       "      <td>2.141990e+05</td>\n",
       "      <td>1.644000e+03</td>\n",
       "      <td>8.300000e+01</td>\n",
       "      <td>...</td>\n",
       "      <td>7.809210e+06</td>\n",
       "      <td>7.809210e+06</td>\n",
       "      <td>7.809210e+06</td>\n",
       "      <td>7.809210e+06</td>\n",
       "      <td>7.809210e+06</td>\n",
       "      <td>1.173553e+01</td>\n",
       "      <td>1.173553e+01</td>\n",
       "      <td>1.173553e+01</td>\n",
       "      <td>1.173553e+01</td>\n",
       "      <td>1.173553e+01</td>\n",
       "    </tr>\n",
       "  </tbody>\n",
       "</table>\n",
       "<p>8 rows × 30 columns</p>\n",
       "</div>"
      ],
      "text/plain": [
       "       date_block_num       shop_id       item_id    item_price   date (year)  \\\n",
       "count    3.149076e+06  3.149076e+06  3.149076e+06  3.149076e+06  3.149076e+06   \n",
       "mean     1.589172e+01  3.291088e+01  1.025335e+04  8.405260e+02  2.013860e+03   \n",
       "std      1.032888e+01  1.632434e+01  6.322862e+03  1.690195e+03  8.032610e-01   \n",
       "min      0.000000e+00  0.000000e+00  0.000000e+00  0.000000e+00  2.013000e+03   \n",
       "25%      7.000000e+00  2.200000e+01  4.510000e+03  1.990000e+02  2.013000e+03   \n",
       "50%      1.500000e+01  3.100000e+01  9.461000e+03  3.990000e+02  2.014000e+03   \n",
       "75%      2.400000e+01  4.700000e+01  1.572900e+04  8.995000e+02  2.015000e+03   \n",
       "max      3.400000e+01  5.900000e+01  2.216900e+04  4.978200e+04  2.015000e+03   \n",
       "\n",
       "       date (month)  date (days in month)            ID  item_cnt_month  \\\n",
       "count  3.149076e+06          3.149076e+06  3.149076e+06    3.149076e+06   \n",
       "mean   6.571189e+00          3.039884e+01  7.284903e+03    6.887001e+00   \n",
       "std    3.617427e+00          8.686052e-01  3.141993e+04    2.882633e+01   \n",
       "min    1.000000e+00          2.800000e+01  0.000000e+00    0.000000e+00   \n",
       "25%    3.000000e+00          3.000000e+01  0.000000e+00    1.000000e+00   \n",
       "50%    7.000000e+00          3.100000e+01  0.000000e+00    2.000000e+00   \n",
       "75%    1.000000e+01          3.100000e+01  0.000000e+00    5.000000e+00   \n",
       "max    1.200000e+01          3.100000e+01  2.141990e+05    1.644000e+03   \n",
       "\n",
       "       item_category_id  ...  revenue_month (-1)  revenue_month (-2)  \\\n",
       "count      3.149076e+06  ...        3.149076e+06        3.149076e+06   \n",
       "mean       4.043224e+01  ...        6.158957e+03        6.001051e+03   \n",
       "std        1.714804e+01  ...        4.133641e+04        4.123074e+04   \n",
       "min        0.000000e+00  ...        0.000000e+00        0.000000e+00   \n",
       "25%        2.900000e+01  ...        1.993400e+02        0.000000e+00   \n",
       "50%        4.000000e+01  ...        8.970000e+02        7.490000e+02   \n",
       "75%        5.500000e+01  ...        3.290000e+03        3.184000e+03   \n",
       "max        8.300000e+01  ...        7.809210e+06        7.809210e+06   \n",
       "\n",
       "       revenue_month (-3)  revenue_month (-6)  revenue_month (-12)  \\\n",
       "count        3.149076e+06        3.149076e+06         3.149076e+06   \n",
       "mean         5.842839e+03        5.399491e+03         4.653873e+03   \n",
       "std          4.108327e+04        4.048315e+04         3.893006e+04   \n",
       "min          0.000000e+00        0.000000e+00         0.000000e+00   \n",
       "25%          0.000000e+00        0.000000e+00         0.000000e+00   \n",
       "50%          5.980000e+02        9.900000e+01         0.000000e+00   \n",
       "75%          2.997000e+03        2.398000e+03         1.199000e+03   \n",
       "max          7.809210e+06        7.809210e+06         7.809210e+06   \n",
       "\n",
       "       item_cnt_mef (-1)  item_cnt_mef (-2)  item_cnt_mef (-3)  \\\n",
       "count       3.149076e+06       3.149076e+06       3.149076e+06   \n",
       "mean        6.165729e+00       5.429309e+00       4.870006e+00   \n",
       "std         3.172836e+00       3.589157e+00       3.780284e+00   \n",
       "min         0.000000e+00       0.000000e+00       0.000000e+00   \n",
       "25%         5.265959e+00       0.000000e+00       0.000000e+00   \n",
       "50%         6.605059e+00       6.498355e+00       6.041723e+00   \n",
       "75%         8.404300e+00       7.856967e+00       7.627376e+00   \n",
       "max         1.173553e+01       1.173553e+01       1.173553e+01   \n",
       "\n",
       "       item_cnt_mef (-6)  item_cnt_mef (-12)  \n",
       "count       3.149076e+06        3.149076e+06  \n",
       "mean        3.738651e+00        2.532078e+00  \n",
       "std         3.901715e+00        3.657612e+00  \n",
       "min         0.000000e+00        0.000000e+00  \n",
       "25%         0.000000e+00        0.000000e+00  \n",
       "50%         4.832291e+00        0.000000e+00  \n",
       "75%         7.104757e+00        6.353680e+00  \n",
       "max         1.173553e+01        1.173553e+01  \n",
       "\n",
       "[8 rows x 30 columns]"
      ]
     },
     "execution_count": 22,
     "metadata": {},
     "output_type": "execute_result"
    }
   ],
   "source": [
    "data_df.describe()"
   ]
  },
  {
   "cell_type": "code",
   "execution_count": 23,
   "metadata": {},
   "outputs": [
    {
     "data": {
      "text/plain": [
       "34"
      ]
     },
     "execution_count": 23,
     "metadata": {},
     "output_type": "execute_result"
    }
   ],
   "source": [
    "np.max(data_df['date_block_num'])"
   ]
  },
  {
   "cell_type": "markdown",
   "metadata": {},
   "source": [
    "We will use date_block_num == 33 for the test set, date_block_num == 34 for the prediction set, and all other rows as training.  \n",
    "Since we are using 12 month's of lagged data, discard any training rows between 0 and 11."
   ]
  },
  {
   "cell_type": "code",
   "execution_count": 24,
   "metadata": {},
   "outputs": [
    {
     "name": "stdout",
     "output_type": "stream",
     "text": [
      "  Training rows:  1,614,230\n",
      "   Testing rows:  53,503\n",
      "Prediction rows:  214,200\n"
     ]
    }
   ],
   "source": [
    "train_df = data_df[(data_df['date_block_num'] > 11) & (data_df['date_block_num'] < 33)]\n",
    "test_df = data_df[data_df['date_block_num'] == 33]\n",
    "pred_df = data_df[data_df['date_block_num'] == 34]\n",
    "\n",
    "print('  Training rows:  {:,}'.format(len(train_df)))\n",
    "print('   Testing rows:  {:,}'.format(len(test_df)))\n",
    "print('Prediction rows:  {:,}'.format(len(pred_df)))"
   ]
  },
  {
   "cell_type": "code",
   "execution_count": 25,
   "metadata": {},
   "outputs": [],
   "source": [
    "X_train = train_df.drop(['ID', 'item_cnt_month'], axis=1)\n",
    "y_train = train_df['item_cnt_month']\n",
    "\n",
    "X_test = test_df.drop(['ID', 'item_cnt_month'], axis=1)\n",
    "y_test = test_df['item_cnt_month']\n",
    "\n",
    "X_pred = pred_df.drop(['ID', 'item_cnt_month'], axis=1)"
   ]
  },
  {
   "cell_type": "markdown",
   "metadata": {},
   "source": [
    "Now train the regressor."
   ]
  },
  {
   "cell_type": "code",
   "execution_count": 26,
   "metadata": {},
   "outputs": [
    {
     "name": "stderr",
     "output_type": "stream",
     "text": [
      "C:\\Users\\Craig\\AppData\\Local\\conda\\conda\\envs\\tensorflow\\lib\\site-packages\\xgboost\\core.py:587: FutureWarning: Series.base is deprecated and will be removed in a future version\n",
      "  if getattr(data, 'base', None) is not None and \\\n",
      "C:\\Users\\Craig\\AppData\\Local\\conda\\conda\\envs\\tensorflow\\lib\\site-packages\\xgboost\\core.py:588: FutureWarning: Series.base is deprecated and will be removed in a future version\n",
      "  data.base is not None and isinstance(data, np.ndarray) \\\n"
     ]
    },
    {
     "name": "stdout",
     "output_type": "stream",
     "text": [
      "[14:51:10] WARNING: C:/Jenkins/workspace/xgboost-win64_release_0.90/src/objective/regression_obj.cu:152: reg:linear is now deprecated in favor of reg:squarederror.\n",
      "[0]\tvalidation_0-rmse:29.5723\tvalidation_1-rmse:21.4098\n",
      "Multiple eval metrics have been passed: 'validation_1-rmse' will be used for early stopping.\n",
      "\n",
      "Will train until validation_1-rmse hasn't improved in 10 rounds.\n",
      "[1]\tvalidation_0-rmse:26.8261\tvalidation_1-rmse:19.3615\n",
      "[2]\tvalidation_0-rmse:24.4013\tvalidation_1-rmse:17.4367\n",
      "[3]\tvalidation_0-rmse:22.2291\tvalidation_1-rmse:15.8248\n",
      "[4]\tvalidation_0-rmse:20.28\tvalidation_1-rmse:14.3383\n",
      "[5]\tvalidation_0-rmse:18.5507\tvalidation_1-rmse:12.9237\n",
      "[6]\tvalidation_0-rmse:17.0243\tvalidation_1-rmse:11.7265\n",
      "[7]\tvalidation_0-rmse:15.6991\tvalidation_1-rmse:10.672\n",
      "[8]\tvalidation_0-rmse:14.5078\tvalidation_1-rmse:9.73422\n",
      "[9]\tvalidation_0-rmse:13.4565\tvalidation_1-rmse:8.89981\n",
      "[10]\tvalidation_0-rmse:12.5523\tvalidation_1-rmse:8.17811\n",
      "[11]\tvalidation_0-rmse:11.7758\tvalidation_1-rmse:7.54679\n",
      "[12]\tvalidation_0-rmse:11.1039\tvalidation_1-rmse:6.97219\n",
      "[13]\tvalidation_0-rmse:10.5269\tvalidation_1-rmse:6.45719\n",
      "[14]\tvalidation_0-rmse:10.0426\tvalidation_1-rmse:6.02463\n",
      "[15]\tvalidation_0-rmse:9.6169\tvalidation_1-rmse:5.64985\n",
      "[16]\tvalidation_0-rmse:9.26139\tvalidation_1-rmse:5.33522\n",
      "[17]\tvalidation_0-rmse:8.95946\tvalidation_1-rmse:5.07146\n",
      "[18]\tvalidation_0-rmse:8.69786\tvalidation_1-rmse:4.83361\n",
      "[19]\tvalidation_0-rmse:8.48939\tvalidation_1-rmse:4.6336\n",
      "[20]\tvalidation_0-rmse:8.30451\tvalidation_1-rmse:4.46803\n",
      "[21]\tvalidation_0-rmse:8.14417\tvalidation_1-rmse:4.33366\n",
      "[22]\tvalidation_0-rmse:7.99785\tvalidation_1-rmse:4.22434\n",
      "[23]\tvalidation_0-rmse:7.87178\tvalidation_1-rmse:4.1471\n",
      "[24]\tvalidation_0-rmse:7.76986\tvalidation_1-rmse:4.08288\n",
      "[25]\tvalidation_0-rmse:7.69154\tvalidation_1-rmse:4.04608\n",
      "[26]\tvalidation_0-rmse:7.6314\tvalidation_1-rmse:4.01074\n",
      "[27]\tvalidation_0-rmse:7.56423\tvalidation_1-rmse:3.97128\n",
      "[28]\tvalidation_0-rmse:7.51749\tvalidation_1-rmse:3.95562\n",
      "[29]\tvalidation_0-rmse:7.47\tvalidation_1-rmse:3.93671\n",
      "[30]\tvalidation_0-rmse:7.42717\tvalidation_1-rmse:3.91175\n",
      "[31]\tvalidation_0-rmse:7.39465\tvalidation_1-rmse:3.89557\n",
      "[32]\tvalidation_0-rmse:7.36301\tvalidation_1-rmse:3.88792\n",
      "[33]\tvalidation_0-rmse:7.3355\tvalidation_1-rmse:3.88204\n",
      "[34]\tvalidation_0-rmse:7.31253\tvalidation_1-rmse:3.87011\n",
      "[35]\tvalidation_0-rmse:7.28747\tvalidation_1-rmse:3.8729\n",
      "[36]\tvalidation_0-rmse:7.26731\tvalidation_1-rmse:3.86506\n",
      "[37]\tvalidation_0-rmse:7.24679\tvalidation_1-rmse:3.86534\n",
      "[38]\tvalidation_0-rmse:7.22504\tvalidation_1-rmse:3.8712\n",
      "[39]\tvalidation_0-rmse:7.20741\tvalidation_1-rmse:3.86493\n",
      "[40]\tvalidation_0-rmse:7.19332\tvalidation_1-rmse:3.86543\n",
      "[41]\tvalidation_0-rmse:7.18028\tvalidation_1-rmse:3.86076\n",
      "[42]\tvalidation_0-rmse:7.16642\tvalidation_1-rmse:3.86329\n",
      "[43]\tvalidation_0-rmse:7.15303\tvalidation_1-rmse:3.86172\n",
      "[44]\tvalidation_0-rmse:7.13715\tvalidation_1-rmse:3.86501\n",
      "[45]\tvalidation_0-rmse:7.12486\tvalidation_1-rmse:3.86889\n",
      "[46]\tvalidation_0-rmse:7.11166\tvalidation_1-rmse:3.87508\n",
      "[47]\tvalidation_0-rmse:7.10086\tvalidation_1-rmse:3.87073\n",
      "[48]\tvalidation_0-rmse:7.08977\tvalidation_1-rmse:3.87453\n",
      "[49]\tvalidation_0-rmse:7.07979\tvalidation_1-rmse:3.87989\n",
      "[50]\tvalidation_0-rmse:7.0705\tvalidation_1-rmse:3.88101\n",
      "[51]\tvalidation_0-rmse:7.0587\tvalidation_1-rmse:3.89356\n",
      "Stopping. Best iteration:\n",
      "[41]\tvalidation_0-rmse:7.18028\tvalidation_1-rmse:3.86076\n",
      "\n"
     ]
    },
    {
     "data": {
      "text/plain": [
       "XGBRegressor(base_score=0.5, booster='gbtree', colsample_bylevel=1,\n",
       "       colsample_bynode=1, colsample_bytree=1, eta=0.3, gamma=0,\n",
       "       importance_type='gain', learning_rate=0.1, max_delta_step=0,\n",
       "       max_depth=10, min_child_weight=500, missing=None, n_estimators=1000,\n",
       "       n_jobs=1, nthread=None, objective='reg:linear', random_state=0,\n",
       "       reg_alpha=0, reg_lambda=1, scale_pos_weight=1, seed=0, silent=None,\n",
       "       subsample=0.8, verbosity=1)"
      ]
     },
     "execution_count": 26,
     "metadata": {},
     "output_type": "execute_result"
    }
   ],
   "source": [
    "xgb = XGBRegressor(seed=0, \n",
    "                   n_estimators=1000,\n",
    "                   max_depth=10,\n",
    "                   min_child_weight=500,\n",
    "                   eta=0.3,\n",
    "                   subsample=0.8\n",
    ")\n",
    "\n",
    "xgb.fit(X_train, \n",
    "        y_train, \n",
    "        eval_metric='rmse',  \n",
    "        eval_set=[(X_train, y_train), (X_test, y_test)], \n",
    "        verbose=True, \n",
    "        early_stopping_rounds=10)"
   ]
  },
  {
   "cell_type": "code",
   "execution_count": 27,
   "metadata": {},
   "outputs": [
    {
     "data": {
      "text/plain": [
       "<matplotlib.axes._subplots.AxesSubplot at 0x222a65b68d0>"
      ]
     },
     "execution_count": 27,
     "metadata": {},
     "output_type": "execute_result"
    },
    {
     "data": {
      "image/png": "[encoded data removed]",
      "text/plain": [
       "<matplotlib.figure.Figure at 0x222822a45f8>"
      ]
     },
     "metadata": {},
     "output_type": "display_data"
    }
   ],
   "source": [
    "plot_importance(xgb)"
   ]
  },
  {
   "cell_type": "code",
   "execution_count": 28,
   "metadata": {},
   "outputs": [
    {
     "name": "stderr",
     "output_type": "stream",
     "text": [
      "C:\\Users\\Craig\\AppData\\Local\\conda\\conda\\envs\\tensorflow\\lib\\site-packages\\ipykernel_launcher.py:1: SettingWithCopyWarning: \n",
      "A value is trying to be set on a copy of a slice from a DataFrame.\n",
      "Try using .loc[row_indexer,col_indexer] = value instead\n",
      "\n",
      "See the caveats in the documentation: http://pandas.pydata.org/pandas-docs/stable/user_guide/indexing.html#returning-a-view-versus-a-copy\n",
      "  \"\"\"Entry point for launching an IPython kernel.\n",
      "C:\\Users\\Craig\\AppData\\Local\\conda\\conda\\envs\\tensorflow\\lib\\site-packages\\ipykernel_launcher.py:3: SettingWithCopyWarning: \n",
      "A value is trying to be set on a copy of a slice from a DataFrame.\n",
      "Try using .loc[row_indexer,col_indexer] = value instead\n",
      "\n",
      "See the caveats in the documentation: http://pandas.pydata.org/pandas-docs/stable/user_guide/indexing.html#returning-a-view-versus-a-copy\n",
      "  This is separate from the ipykernel package so we can avoid doing imports until\n"
     ]
    }
   ],
   "source": [
    "pred_df['item_cnt_month'] = xgb.predict(X_pred).clip(0, 20)\n",
    "\n",
    "pred_df['ID'] = pred_df['ID'].astype(int)\n",
    "\n",
    "pred_df[['ID', 'item_cnt_month']].to_csv('submissions/final_submission.csv', index=False)"
   ]
  },
  {
   "cell_type": "code",
   "execution_count": 39,
   "metadata": {},
   "outputs": [
    {
     "data": {
      "text/html": [
       "<div>\n",
       "<style scoped>\n",
       "    .dataframe tbody tr th:only-of-type {\n",
       "        vertical-align: middle;\n",
       "    }\n",
       "\n",
       "    .dataframe tbody tr th {\n",
       "        vertical-align: top;\n",
       "    }\n",
       "\n",
       "    .dataframe thead th {\n",
       "        text-align: right;\n",
       "    }\n",
       "</style>\n",
       "<table border=\"1\" class=\"dataframe\">\n",
       "  <thead>\n",
       "    <tr style=\"text-align: right;\">\n",
       "      <th></th>\n",
       "      <th>ID</th>\n",
       "      <th>item_cnt_month</th>\n",
       "    </tr>\n",
       "  </thead>\n",
       "  <tbody>\n",
       "    <tr>\n",
       "      <th>0</th>\n",
       "      <td>0</td>\n",
       "      <td>0.0</td>\n",
       "    </tr>\n",
       "    <tr>\n",
       "      <th>1</th>\n",
       "      <td>1</td>\n",
       "      <td>0.0</td>\n",
       "    </tr>\n",
       "    <tr>\n",
       "      <th>2</th>\n",
       "      <td>2</td>\n",
       "      <td>1.0</td>\n",
       "    </tr>\n",
       "    <tr>\n",
       "      <th>3</th>\n",
       "      <td>3</td>\n",
       "      <td>0.0</td>\n",
       "    </tr>\n",
       "    <tr>\n",
       "      <th>4</th>\n",
       "      <td>4</td>\n",
       "      <td>0.0</td>\n",
       "    </tr>\n",
       "  </tbody>\n",
       "</table>\n",
       "</div>"
      ],
      "text/plain": [
       "   ID  item_cnt_month\n",
       "0   0             0.0\n",
       "1   1             0.0\n",
       "2   2             1.0\n",
       "3   3             0.0\n",
       "4   4             0.0"
      ]
     },
     "execution_count": 39,
     "metadata": {},
     "output_type": "execute_result"
    }
   ],
   "source": [
    "bagged_df = pd.read_csv('submissions/submission-Oct-2015.csv')\n",
    "bagged_df.head(5)"
   ]
  },
  {
   "cell_type": "code",
   "execution_count": 40,
   "metadata": {},
   "outputs": [
    {
     "data": {
      "text/html": [
       "<div>\n",
       "<style scoped>\n",
       "    .dataframe tbody tr th:only-of-type {\n",
       "        vertical-align: middle;\n",
       "    }\n",
       "\n",
       "    .dataframe tbody tr th {\n",
       "        vertical-align: top;\n",
       "    }\n",
       "\n",
       "    .dataframe thead th {\n",
       "        text-align: right;\n",
       "    }\n",
       "</style>\n",
       "<table border=\"1\" class=\"dataframe\">\n",
       "  <thead>\n",
       "    <tr style=\"text-align: right;\">\n",
       "      <th></th>\n",
       "      <th>ID</th>\n",
       "      <th>item_cnt_month</th>\n",
       "    </tr>\n",
       "  </thead>\n",
       "  <tbody>\n",
       "    <tr>\n",
       "      <th>2934876</th>\n",
       "      <td>0</td>\n",
       "      <td>3.070728</td>\n",
       "    </tr>\n",
       "    <tr>\n",
       "      <th>2934877</th>\n",
       "      <td>1</td>\n",
       "      <td>3.165295</td>\n",
       "    </tr>\n",
       "    <tr>\n",
       "      <th>2934878</th>\n",
       "      <td>2</td>\n",
       "      <td>1.442291</td>\n",
       "    </tr>\n",
       "    <tr>\n",
       "      <th>2934879</th>\n",
       "      <td>3</td>\n",
       "      <td>2.844170</td>\n",
       "    </tr>\n",
       "    <tr>\n",
       "      <th>2934880</th>\n",
       "      <td>4</td>\n",
       "      <td>6.340352</td>\n",
       "    </tr>\n",
       "  </tbody>\n",
       "</table>\n",
       "</div>"
      ],
      "text/plain": [
       "         ID  item_cnt_month\n",
       "2934876   0        3.070728\n",
       "2934877   1        3.165295\n",
       "2934878   2        1.442291\n",
       "2934879   3        2.844170\n",
       "2934880   4        6.340352"
      ]
     },
     "execution_count": 40,
     "metadata": {},
     "output_type": "execute_result"
    }
   ],
   "source": [
    "pred_df[['ID', 'item_cnt_month']].head(5)"
   ]
  },
  {
   "cell_type": "code",
   "execution_count": 41,
   "metadata": {},
   "outputs": [
    {
     "data": {
      "text/html": [
       "<div>\n",
       "<style scoped>\n",
       "    .dataframe tbody tr th:only-of-type {\n",
       "        vertical-align: middle;\n",
       "    }\n",
       "\n",
       "    .dataframe tbody tr th {\n",
       "        vertical-align: top;\n",
       "    }\n",
       "\n",
       "    .dataframe thead th {\n",
       "        text-align: right;\n",
       "    }\n",
       "</style>\n",
       "<table border=\"1\" class=\"dataframe\">\n",
       "  <thead>\n",
       "    <tr style=\"text-align: right;\">\n",
       "      <th></th>\n",
       "      <th>ID</th>\n",
       "      <th>item_cnt_month_x</th>\n",
       "      <th>item_cnt_month_y</th>\n",
       "    </tr>\n",
       "  </thead>\n",
       "  <tbody>\n",
       "    <tr>\n",
       "      <th>0</th>\n",
       "      <td>0</td>\n",
       "      <td>0.0</td>\n",
       "      <td>3.070728</td>\n",
       "    </tr>\n",
       "    <tr>\n",
       "      <th>1</th>\n",
       "      <td>1</td>\n",
       "      <td>0.0</td>\n",
       "      <td>3.165295</td>\n",
       "    </tr>\n",
       "    <tr>\n",
       "      <th>2</th>\n",
       "      <td>2</td>\n",
       "      <td>1.0</td>\n",
       "      <td>1.442291</td>\n",
       "    </tr>\n",
       "    <tr>\n",
       "      <th>3</th>\n",
       "      <td>3</td>\n",
       "      <td>0.0</td>\n",
       "      <td>2.844170</td>\n",
       "    </tr>\n",
       "    <tr>\n",
       "      <th>4</th>\n",
       "      <td>4</td>\n",
       "      <td>0.0</td>\n",
       "      <td>6.340352</td>\n",
       "    </tr>\n",
       "  </tbody>\n",
       "</table>\n",
       "</div>"
      ],
      "text/plain": [
       "   ID  item_cnt_month_x  item_cnt_month_y\n",
       "0   0               0.0          3.070728\n",
       "1   1               0.0          3.165295\n",
       "2   2               1.0          1.442291\n",
       "3   3               0.0          2.844170\n",
       "4   4               0.0          6.340352"
      ]
     },
     "execution_count": 41,
     "metadata": {},
     "output_type": "execute_result"
    }
   ],
   "source": [
    "bagged_df = bagged_df.merge(pred_df[['ID', 'item_cnt_month']], on='ID')\n",
    "bagged_df.head(5)"
   ]
  },
  {
   "cell_type": "code",
   "execution_count": 42,
   "metadata": {},
   "outputs": [],
   "source": [
    "bagged_df.columns = ['ID', 'item_cnt_month (oct)', 'item_cnt_month (ML)']"
   ]
  },
  {
   "cell_type": "code",
   "execution_count": 37,
   "metadata": {},
   "outputs": [
    {
     "data": {
      "text/html": [
       "<div>\n",
       "<style scoped>\n",
       "    .dataframe tbody tr th:only-of-type {\n",
       "        vertical-align: middle;\n",
       "    }\n",
       "\n",
       "    .dataframe tbody tr th {\n",
       "        vertical-align: top;\n",
       "    }\n",
       "\n",
       "    .dataframe thead th {\n",
       "        text-align: right;\n",
       "    }\n",
       "</style>\n",
       "<table border=\"1\" class=\"dataframe\">\n",
       "  <thead>\n",
       "    <tr style=\"text-align: right;\">\n",
       "      <th></th>\n",
       "      <th>ID</th>\n",
       "      <th>item_cnt_month (oct)</th>\n",
       "      <th>item_cnt_month (ML)</th>\n",
       "    </tr>\n",
       "  </thead>\n",
       "  <tbody>\n",
       "    <tr>\n",
       "      <th>0</th>\n",
       "      <td>0</td>\n",
       "      <td>0.0</td>\n",
       "      <td>3.070728</td>\n",
       "    </tr>\n",
       "    <tr>\n",
       "      <th>1</th>\n",
       "      <td>1</td>\n",
       "      <td>0.0</td>\n",
       "      <td>3.165295</td>\n",
       "    </tr>\n",
       "    <tr>\n",
       "      <th>2</th>\n",
       "      <td>2</td>\n",
       "      <td>1.0</td>\n",
       "      <td>1.442291</td>\n",
       "    </tr>\n",
       "    <tr>\n",
       "      <th>3</th>\n",
       "      <td>3</td>\n",
       "      <td>0.0</td>\n",
       "      <td>2.844170</td>\n",
       "    </tr>\n",
       "    <tr>\n",
       "      <th>4</th>\n",
       "      <td>4</td>\n",
       "      <td>0.0</td>\n",
       "      <td>6.340352</td>\n",
       "    </tr>\n",
       "  </tbody>\n",
       "</table>\n",
       "</div>"
      ],
      "text/plain": [
       "   ID  item_cnt_month (oct)  item_cnt_month (ML)\n",
       "0   0                   0.0             3.070728\n",
       "1   1                   0.0             3.165295\n",
       "2   2                   1.0             1.442291\n",
       "3   3                   0.0             2.844170\n",
       "4   4                   0.0             6.340352"
      ]
     },
     "execution_count": 37,
     "metadata": {},
     "output_type": "execute_result"
    }
   ],
   "source": [
    "bagged_df.head(5)"
   ]
  },
  {
   "cell_type": "code",
   "execution_count": 46,
   "metadata": {},
   "outputs": [],
   "source": [
    "def get_bagged_value(row):\n",
    "    return 0 if row['item_cnt_month (oct)'] == 0.0 else (row['item_cnt_month (oct)'] + row['item_cnt_month (ML)']) / 2.0\n",
    "\n",
    "bagged_df['item_cnt_month'] = bagged_df.apply(lambda row: get_bagged_value(row), axis=1)"
   ]
  },
  {
   "cell_type": "code",
   "execution_count": 47,
   "metadata": {},
   "outputs": [
    {
     "data": {
      "text/html": [
       "<div>\n",
       "<style scoped>\n",
       "    .dataframe tbody tr th:only-of-type {\n",
       "        vertical-align: middle;\n",
       "    }\n",
       "\n",
       "    .dataframe tbody tr th {\n",
       "        vertical-align: top;\n",
       "    }\n",
       "\n",
       "    .dataframe thead th {\n",
       "        text-align: right;\n",
       "    }\n",
       "</style>\n",
       "<table border=\"1\" class=\"dataframe\">\n",
       "  <thead>\n",
       "    <tr style=\"text-align: right;\">\n",
       "      <th></th>\n",
       "      <th>ID</th>\n",
       "      <th>item_cnt_month (oct)</th>\n",
       "      <th>item_cnt_month (ML)</th>\n",
       "      <th>bagged</th>\n",
       "      <th>item_cnt_month</th>\n",
       "    </tr>\n",
       "  </thead>\n",
       "  <tbody>\n",
       "    <tr>\n",
       "      <th>0</th>\n",
       "      <td>0</td>\n",
       "      <td>0.0</td>\n",
       "      <td>3.070728</td>\n",
       "      <td>0.000000</td>\n",
       "      <td>0.000000</td>\n",
       "    </tr>\n",
       "    <tr>\n",
       "      <th>1</th>\n",
       "      <td>1</td>\n",
       "      <td>0.0</td>\n",
       "      <td>3.165295</td>\n",
       "      <td>0.000000</td>\n",
       "      <td>0.000000</td>\n",
       "    </tr>\n",
       "    <tr>\n",
       "      <th>2</th>\n",
       "      <td>2</td>\n",
       "      <td>1.0</td>\n",
       "      <td>1.442291</td>\n",
       "      <td>1.221146</td>\n",
       "      <td>1.221146</td>\n",
       "    </tr>\n",
       "    <tr>\n",
       "      <th>3</th>\n",
       "      <td>3</td>\n",
       "      <td>0.0</td>\n",
       "      <td>2.844170</td>\n",
       "      <td>0.000000</td>\n",
       "      <td>0.000000</td>\n",
       "    </tr>\n",
       "    <tr>\n",
       "      <th>4</th>\n",
       "      <td>4</td>\n",
       "      <td>0.0</td>\n",
       "      <td>6.340352</td>\n",
       "      <td>0.000000</td>\n",
       "      <td>0.000000</td>\n",
       "    </tr>\n",
       "  </tbody>\n",
       "</table>\n",
       "</div>"
      ],
      "text/plain": [
       "   ID  item_cnt_month (oct)  item_cnt_month (ML)    bagged  item_cnt_month\n",
       "0   0                   0.0             3.070728  0.000000        0.000000\n",
       "1   1                   0.0             3.165295  0.000000        0.000000\n",
       "2   2                   1.0             1.442291  1.221146        1.221146\n",
       "3   3                   0.0             2.844170  0.000000        0.000000\n",
       "4   4                   0.0             6.340352  0.000000        0.000000"
      ]
     },
     "execution_count": 47,
     "metadata": {},
     "output_type": "execute_result"
    }
   ],
   "source": [
    "bagged_df.head(5)"
   ]
  },
  {
   "cell_type": "code",
   "execution_count": 49,
   "metadata": {},
   "outputs": [],
   "source": [
    "bagged_df[['ID', 'item_cnt_month']].to_csv('./submissions/bagged.csv', index=False)"
   ]
  },
  {
   "cell_type": "code",
   "execution_count": 56,
   "metadata": {},
   "outputs": [
    {
     "data": {
      "text/html": [
       "<div>\n",
       "<style scoped>\n",
       "    .dataframe tbody tr th:only-of-type {\n",
       "        vertical-align: middle;\n",
       "    }\n",
       "\n",
       "    .dataframe tbody tr th {\n",
       "        vertical-align: top;\n",
       "    }\n",
       "\n",
       "    .dataframe thead th {\n",
       "        text-align: right;\n",
       "    }\n",
       "</style>\n",
       "<table border=\"1\" class=\"dataframe\">\n",
       "  <thead>\n",
       "    <tr style=\"text-align: right;\">\n",
       "      <th></th>\n",
       "      <th>ID</th>\n",
       "      <th>item_cnt_month (oct)</th>\n",
       "      <th>item_cnt_month (ML)</th>\n",
       "      <th>bagged</th>\n",
       "      <th>item_cnt_month</th>\n",
       "    </tr>\n",
       "  </thead>\n",
       "  <tbody>\n",
       "    <tr>\n",
       "      <th>0</th>\n",
       "      <td>0</td>\n",
       "      <td>0.0</td>\n",
       "      <td>3.070728</td>\n",
       "      <td>0.000000</td>\n",
       "      <td>1.535364</td>\n",
       "    </tr>\n",
       "    <tr>\n",
       "      <th>1</th>\n",
       "      <td>1</td>\n",
       "      <td>0.0</td>\n",
       "      <td>3.165295</td>\n",
       "      <td>0.000000</td>\n",
       "      <td>1.582648</td>\n",
       "    </tr>\n",
       "    <tr>\n",
       "      <th>2</th>\n",
       "      <td>2</td>\n",
       "      <td>1.0</td>\n",
       "      <td>1.442291</td>\n",
       "      <td>1.221146</td>\n",
       "      <td>1.221146</td>\n",
       "    </tr>\n",
       "    <tr>\n",
       "      <th>3</th>\n",
       "      <td>3</td>\n",
       "      <td>0.0</td>\n",
       "      <td>2.844170</td>\n",
       "      <td>0.000000</td>\n",
       "      <td>1.422085</td>\n",
       "    </tr>\n",
       "    <tr>\n",
       "      <th>4</th>\n",
       "      <td>4</td>\n",
       "      <td>0.0</td>\n",
       "      <td>6.340352</td>\n",
       "      <td>0.000000</td>\n",
       "      <td>3.170176</td>\n",
       "    </tr>\n",
       "  </tbody>\n",
       "</table>\n",
       "</div>"
      ],
      "text/plain": [
       "   ID  item_cnt_month (oct)  item_cnt_month (ML)    bagged  item_cnt_month\n",
       "0   0                   0.0             3.070728  0.000000        1.535364\n",
       "1   1                   0.0             3.165295  0.000000        1.582648\n",
       "2   2                   1.0             1.442291  1.221146        1.221146\n",
       "3   3                   0.0             2.844170  0.000000        1.422085\n",
       "4   4                   0.0             6.340352  0.000000        3.170176"
      ]
     },
     "execution_count": 56,
     "metadata": {},
     "output_type": "execute_result"
    }
   ],
   "source": [
    "bagged_df['item_cnt_month'] = (bagged_df['item_cnt_month (oct)'] + bagged_df['item_cnt_month (ML)']) / 2\n",
    "\n",
    "bagged_df.head(5)"
   ]
  },
  {
   "cell_type": "code",
   "execution_count": 60,
   "metadata": {},
   "outputs": [],
   "source": [
    "bagged_df[['ID', 'item_cnt_month']].to_csv('C:/temp/bagged3.csv', index=False)"
   ]
  },
  {
   "cell_type": "code",
   "execution_count": 61,
   "metadata": {},
   "outputs": [
    {
     "name": "stdout",
     "output_type": "stream",
     "text": [
      "20.0\n"
     ]
    }
   ],
   "source": [
    "print(np.max(bagged_df['item_cnt_month (oct)']))"
   ]
  },
  {
   "cell_type": "code",
   "execution_count": null,
   "metadata": {
    "collapsed": true
   },
   "outputs": [],
   "source": []
  }
 ],
 "metadata": {
  "kernelspec": {
   "display_name": "Python 3",
   "language": "python",
   "name": "python3"
  },
  "language_info": {
   "codemirror_mode": {
    "name": "ipython",
    "version": 3
   },
   "file_extension": ".py",
   "mimetype": "text/x-python",
   "name": "python",
   "nbconvert_exporter": "python",
   "pygments_lexer": "ipython3",
   "version": "3.6.2"
  }
 },
 "nbformat": 4,
 "nbformat_minor": 2
}
